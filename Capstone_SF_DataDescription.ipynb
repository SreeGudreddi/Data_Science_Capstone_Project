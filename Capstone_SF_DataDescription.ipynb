{
    "nbformat_minor": 1, 
    "cells": [
        {
            "source": "<b>Exploring San Francisco Neighborhoods</b>\n\n<p><b>Business Problem</b></p>\n      <p> <b>Which neighborhood should I choose to live in San Francisco?</b></p>\n\n\n<b>1. Problem Description and Background</b>\n\n<p>San Francisco is the fourth populous city in the state of California located on the tip of a peninsula surrounded by the Pacific Ocean and San Francisco Bay. it is known for its iconic Golden Gate Bridge, cable cars, colorful Victorian houses and year round fog.</p>\n\n<p>San Francisco is city of cinematic, ethnic, and historic neighborhoods with plethora of galleries, boutiques, most alluring hiking trails and parks, local and stylish restaurants with bustling night life. Each neighborhood carries its own charm and attract young, urban professionals and family people who are ethnically diverse with Irish, Russian, Hispanic, Italian, and Chinese roots.  Currently, San Francisco is a melting pot of diverse people which include families with babies and dogs, young and urban professionals, tech workers, blue-collar workers, retired people, affluent people, artists, hipsters, surfers, students and homeless people. </p>\n\n<p>How do people from various backgrounds choose a neighborhood to live in San Francisco? One answer is based on their life style i.e activities and interests. To achieve this people choose to live closer to their interested venues. For this reason, exploring San Francisco neighborhoods to find various venues in each neighborhood is necessary to help make better decision of choosing a neighborhood to live in.</p>\n\n", 
            "cell_type": "markdown", 
            "metadata": {}
        }, 
        {
            "source": "<p><b>2. Data Description and Extraction</b></p>", 
            "cell_type": "markdown", 
            "metadata": {}
        }, 
        {
            "source": "<p>For the San Francisco neighborhood data, a Wikipedia page exists that has all the neighborhood information \nin a tabular form. First, the page is scraped using Beautiful Soup and it is wrangled, cleaned, and read into a pandas data frame.</p>\n\n<p>Next, for each neighborhood the geo spacial coordinates are located using geo-codes. The neigborhood data is then merged with the geo spacial data.\n", 
            "cell_type": "markdown", 
            "metadata": {}
        }, 
        {
            "source": "<p><b>2.1 Import libraries</b></p>", 
            "cell_type": "markdown", 
            "metadata": {}
        }, 
        {
            "execution_count": 2, 
            "cell_type": "code", 
            "metadata": {}, 
            "outputs": [
                {
                    "output_type": "stream", 
                    "name": "stdout", 
                    "text": "Searching for beautifulsoup4\nBest match: beautifulsoup4 4.6.0\nAdding beautifulsoup4 4.6.0 to easy-install.pth file\n\nUsing /opt/conda/envs/DSX-Python35/lib/python3.5/site-packages\nProcessing dependencies for beautifulsoup4\nFinished processing dependencies for beautifulsoup4\nSearching for html5lib\nBest match: html5lib 0.999999999\nAdding html5lib 0.999999999 to easy-install.pth file\n\nUsing /opt/conda/envs/DSX-Python35/lib/python3.5/site-packages\nProcessing dependencies for html5lib\nFinished processing dependencies for html5lib\nFetching package metadata .............\nSolving package specifications: .\n\nPackage plan for installation in environment /opt/conda/envs/DSX-Python35:\n\nThe following NEW packages will be INSTALLED:\n\n    altair:  2.2.2-py35_1 conda-forge\n    branca:  0.3.1-py_0   conda-forge\n    folium:  0.5.0-py_0   conda-forge\n    vincent: 0.4.4-py_1   conda-forge\n\naltair-2.2.2-p 100% |################################| Time: 0:00:00  26.86 MB/s\nbranca-0.3.1-p 100% |################################| Time: 0:00:00  19.45 MB/s\nvincent-0.4.4- 100% |################################| Time: 0:00:00  39.34 MB/s\nfolium-0.5.0-p 100% |################################| Time: 0:00:00  48.26 MB/s\nImported!\n"
                }
            ], 
            "source": "#import libraries\nimport pandas as pd\nimport numpy as np\n\n#Install beautifulsoup and html parser\n!easy_install beautifulsoup4\n!easy_install html5lib\n\n# tranform JSON file into a pandas dataframe\nfrom pandas.io.json import json_normalize \n\n# Matplotlib and associated plotting modules\nimport matplotlib.cm as cm\nimport matplotlib.colors as colors\n\n#import folium to render map\n!conda install -c conda-forge folium=0.5.0 --yes\nimport folium\n\n# import k-means from clustering stage\nfrom sklearn.cluster import KMeans\n\nprint(\"Imported!\")"
        }, 
        {
            "source": "<p><b>2.2 Scrape Wikipedia web page</b></p>", 
            "cell_type": "markdown", 
            "metadata": {}
        }, 
        {
            "execution_count": 3, 
            "cell_type": "code", 
            "metadata": {}, 
            "outputs": [], 
            "source": "#Get page contents from the given URL\nimport requests\npage = requests.get('https://en.wikipedia.org/wiki/List_of_neighborhoods_in_San_Francisco')"
        }, 
        {
            "source": "<p><b>2.3 Wrangle, Clean, and Read Data</b></p>", 
            "cell_type": "markdown", 
            "metadata": {}
        }, 
        {
            "execution_count": 4, 
            "cell_type": "code", 
            "metadata": {}, 
            "outputs": [], 
            "source": "#Using BeautifulSoup to extract the page\nfrom bs4 import BeautifulSoup\nsoup = BeautifulSoup(page.content, 'html.parser')"
        }, 
        {
            "execution_count": 5, 
            "cell_type": "code", 
            "metadata": {}, 
            "outputs": [
                {
                    "output_type": "stream", 
                    "name": "stdout", 
                    "text": "There are 5 boroughs and 60 neighborhoods in San Francisco\n(60, 2)\n              Borough           Neighborhood\n0            Downtown              Chinatown\n1            Downtown           Civic Center\n2            Downtown     Financial District\n3            Downtown         French Quarter\n4            Downtown             Mid-Market\n5            Downtown               Nob Hill\n6            Downtown            North Beach\n7            Downtown            Mission Bay\n8            Downtown        South of Market\n9            Downtown         Telegraph Hill\n10           Downtown             Tenderloin\n11           Downtown           Union Square\n12  North of Downtown             Cow Hollow\n13  North of Downtown      Fisherman's Wharf\n14  North of Downtown        Marina District\n15  North of Downtown        Pacific Heights\n16  North of Downtown               Presidio\n17  North of Downtown           Russian Hill\n18  North of Downtown        Treasure Island\n19  North of Downtown     Yerba Buena Island\n20      Outside Lands            Forest Hill\n21      Outside Lands              Ingleside\n22      Outside Lands     Ingleside Terraces\n23      Outside Lands              Oceanview\n24      Outside Lands               Parkside\n25      Outside Lands      Richmond District\n26      Outside Lands              Sea Cliff\n27      Outside Lands       St. Francis Wood\n28      Outside Lands        Sunset District\n29      Outside Lands            West Portal\n30      Outside Lands     Westwood Highlands\n31      Outside Lands          Westwood Park\n32   Western Addition           Alamo Square\n33   Western Addition             Anza Vista\n34   Western Addition         Cathedral Hill\n35   Western Addition            Cole Valley\n36   Western Addition         Corona Heights\n37   Western Addition        Duboce Triangle\n38   Western Addition               Fillmore\n39   Western Addition         Haight-Ashbury\n40   Western Addition           Hayes Valley\n41   Western Addition              Japantown\n42   Western Addition         Laurel Heights\n43   Western Addition           Lower Haight\n44   Western Addition       Western Addition\n45           Southern  Bayview\u2013Hunters Point\n46           Southern         Bernal Heights\n47           Southern                 Castro\n48           Southern         Crocker-Amazon\n49           Southern        Diamond Heights\n50           Southern               Dogpatch\n51           Southern          Eureka Valley\n52           Southern     Excelsior District\n53           Southern              Glen Park\n54           Southern       Mission District\n55           Southern             Noe Valley\n56           Southern          Outer Mission\n57           Southern                Portola\n58           Southern           Potrero Hill\n59           Southern      Visitacion Valley\n"
                }
            ], 
            "source": "#Extract table from the page\nhtml = list(soup.children)[2]\nlist(html.children)\nbody = list(html.children)[3]\nbody\nsf_table = soup.find_all('table')[2]\n\n#get borough list\nlist_th = sf_table.find_all(\"th\")\nlist_th.pop(0) #pop out the title of the table from header list\n\n#get neighborhood names list\nlist_td = sf_table.find_all(\"td\")\nlist_td = list_td[:-1]   #delete extra data from the end of the list\n\nrecords = []\ni = 0\nfor td in list_td:\n    neigh = []\n    str = td.get_text().rstrip()\n    if(str != ''):\n        neigh = str.split('\\n')\n        for item in neigh:\n            if(item != ''):\n                record = []\n                borough_name = list_th[i]\n                record.append(borough_name.get_text().rstrip())\n                record.append(item)\n                records.append(record)\n        i=i+1\n\n#Create dataframe with table contents\nheader =['Borough', 'Neighborhood']\nsf_df = pd.DataFrame(data=records)\nsf_df.columns = ['Borough', 'Neighborhood']\nprint(\"There are 5 boroughs and {} neighborhoods in San Francisco\".format(sf_df['Neighborhood'].count()))\nprint(sf_df.shape)\nprint(sf_df)\n\n"
        }, 
        {
            "source": "<p><b>2.3 Locate Geo Spacial Coordinates for the neighborhoods</b></p>", 
            "cell_type": "markdown", 
            "metadata": {}
        }, 
        {
            "execution_count": 6, 
            "cell_type": "code", 
            "metadata": {}, 
            "outputs": [
                {
                    "output_type": "stream", 
                    "name": "stdout", 
                    "text": "              Borough           Neighborhood Latitude Longitude\n0            Downtown              Chinatown  52.3752   4.90094\n1            Downtown           Civic Center  37.7796  -122.417\n2            Downtown     Financial District  37.7936  -122.399\n3            Downtown         French Quarter       NA        NA\n4            Downtown             Mid-Market       NA        NA\n5            Downtown               Nob Hill  37.7933  -122.415\n6            Downtown            North Beach  37.8012  -122.409\n7            Downtown            Mission Bay  37.7708  -122.391\n8            Downtown        South of Market  37.7809  -122.401\n9            Downtown         Telegraph Hill  37.8027  -122.406\n10           Downtown             Tenderloin  37.7842  -122.414\n11           Downtown           Union Square  37.7879  -122.408\n12  North of Downtown             Cow Hollow  37.7973  -122.436\n13  North of Downtown      Fisherman's Wharf  37.8092  -122.417\n14  North of Downtown        Marina District   37.803  -122.437\n15  North of Downtown        Pacific Heights  37.7927  -122.436\n16  North of Downtown               Presidio  37.7987  -122.465\n17  North of Downtown           Russian Hill  37.7977  -122.415\n18  North of Downtown        Treasure Island  37.8234   -122.37\n19  North of Downtown     Yerba Buena Island  37.8112  -122.367\n20      Outside Lands            Forest Hill  37.7474  -122.464\n21      Outside Lands              Ingleside   37.723  -122.453\n22      Outside Lands     Ingleside Terraces       NA        NA\n23      Outside Lands              Oceanview  37.7137  -122.457\n24      Outside Lands               Parkside  37.7384  -122.484\n25      Outside Lands      Richmond District  37.7806  -122.473\n26      Outside Lands              Sea Cliff       NA        NA\n27      Outside Lands       St. Francis Wood  37.7347  -122.468\n28      Outside Lands        Sunset District  37.7535  -122.495\n29      Outside Lands            West Portal  37.7412  -122.466\n30      Outside Lands     Westwood Highlands       NA        NA\n31      Outside Lands          Westwood Park       NA        NA\n32   Western Addition           Alamo Square  37.7764  -122.435\n33   Western Addition             Anza Vista  37.7808  -122.443\n34   Western Addition         Cathedral Hill       NA        NA\n35   Western Addition            Cole Valley  37.7658   -122.45\n36   Western Addition         Corona Heights  37.7649  -122.439\n37   Western Addition        Duboce Triangle  37.7671  -122.432\n38   Western Addition               Fillmore  37.7824  -122.433\n39   Western Addition         Haight-Ashbury    37.77  -122.447\n40   Western Addition           Hayes Valley  37.7767  -122.423\n41   Western Addition              Japantown  37.7856   -122.43\n42   Western Addition         Laurel Heights       NA        NA\n43   Western Addition           Lower Haight  37.7719  -122.432\n44   Western Addition       Western Addition  37.7796   -122.43\n45           Southern  Bayview\u2013Hunters Point  37.7462  -122.378\n46           Southern         Bernal Heights   37.741  -122.414\n47           Southern                 Castro  37.6697  -4.43657\n48           Southern         Crocker-Amazon  37.7094  -122.439\n49           Southern        Diamond Heights       NA        NA\n50           Southern               Dogpatch  37.7607  -122.389\n51           Southern          Eureka Valley  37.8096  -122.422\n52           Southern     Excelsior District       NA        NA\n53           Southern              Glen Park  37.7331  -122.434\n54           Southern       Mission District  37.7599  -122.419\n55           Southern             Noe Valley  37.7516  -122.432\n56           Southern          Outer Mission  37.7453   -122.42\n57           Southern                Portola  37.7264  -122.409\n58           Southern           Potrero Hill  37.7566  -122.399\n59           Southern      Visitacion Valley  37.7121   -122.41\n"
                }
            ], 
            "source": "#import Nominatim\nfrom geopy.geocoders import Nominatim\n\nlatitude_list = []\nlongitude_list= []\nrecords = sf_df['Neighborhood']\n\nfor item in records:\n    #append city name to each neighborhood name\n    address = item+', San Francisco'\n\n    geolocator = Nominatim(user_agent=\"sf_explorer\")\n    location = geolocator.geocode(address)\n    if(location):\n        latitude_list.append(location.latitude)\n        longitude_list.append(location.longitude)\n    else:\n        latitude_list.append('NA')\n        longitude_list.append('NA')\n        \n#Make a copy of the sf_df dataframe\nsf_df_geo = sf_df.copy(deep=True)\nsf_df_geo['Latitude'] = latitude_list\nsf_df_geo['Longitude'] = longitude_list\nprint(sf_df_geo)"
        }, 
        {
            "source": "<p><b>Observation: </b></p>\n<p>Missing coordinations and wrong cordinations for few neighhoods.</p>\n<p><b>Solution: </b><p>\n<p>Download the sf_df_geo data frame into a cvs file and update the missing and error coordinates manually\nand read the corrected cvs file into a data frame.</p>", 
            "cell_type": "markdown", 
            "metadata": {}
        }, 
        {
            "execution_count": 30, 
            "cell_type": "code", 
            "metadata": {}, 
            "outputs": [
                {
                    "output_type": "stream", 
                    "name": "stdout", 
                    "text": "This cell is hidden as it contains credentials of the IBM Object Cloud.\nRead the updated cvs file into sf_df_geocodes dataframe.\n"
                }, 
                {
                    "execution_count": 30, 
                    "metadata": {}, 
                    "data": {
                        "text/html": "<div>\n<style scoped>\n    .dataframe tbody tr th:only-of-type {\n        vertical-align: middle;\n    }\n\n    .dataframe tbody tr th {\n        vertical-align: top;\n    }\n\n    .dataframe thead th {\n        text-align: right;\n    }\n</style>\n<table border=\"1\" class=\"dataframe\">\n  <thead>\n    <tr style=\"text-align: right;\">\n      <th></th>\n      <th>Unnamed: 0</th>\n      <th>Unnamed: 1</th>\n      <th>Unnamed: 2</th>\n    </tr>\n  </thead>\n  <tbody>\n    <tr>\n      <th>0</th>\n      <td>Alamo Square</td>\n      <td>37.776357</td>\n      <td>-122.434694</td>\n    </tr>\n    <tr>\n      <th>1</th>\n      <td>Anza Vista</td>\n      <td>37.780836</td>\n      <td>-122.443149</td>\n    </tr>\n    <tr>\n      <th>2</th>\n      <td>Bayview</td>\n      <td>37.728889</td>\n      <td>-122.392500</td>\n    </tr>\n    <tr>\n      <th>3</th>\n      <td>Bernal Heights</td>\n      <td>37.741001</td>\n      <td>-122.414214</td>\n    </tr>\n    <tr>\n      <th>4</th>\n      <td>Castro</td>\n      <td>37.760900</td>\n      <td>-122.435000</td>\n    </tr>\n  </tbody>\n</table>\n</div>", 
                        "text/plain": "       Unnamed: 0  Unnamed: 1  Unnamed: 2\n0    Alamo Square   37.776357 -122.434694\n1      Anza Vista   37.780836 -122.443149\n2         Bayview   37.728889 -122.392500\n3  Bernal Heights   37.741001 -122.414214\n4          Castro   37.760900 -122.435000"
                    }, 
                    "output_type": "execute_result"
                }
            ], 
            "source": "# The code was removed by Watson Studio for sharing."
        }, 
        {
            "execution_count": 31, 
            "cell_type": "code", 
            "metadata": {}, 
            "outputs": [
                {
                    "execution_count": 31, 
                    "metadata": {}, 
                    "data": {
                        "text/html": "<div>\n<style scoped>\n    .dataframe tbody tr th:only-of-type {\n        vertical-align: middle;\n    }\n\n    .dataframe tbody tr th {\n        vertical-align: top;\n    }\n\n    .dataframe thead th {\n        text-align: right;\n    }\n</style>\n<table border=\"1\" class=\"dataframe\">\n  <thead>\n    <tr style=\"text-align: right;\">\n      <th></th>\n      <th>Neighborhood</th>\n      <th>Latitude</th>\n      <th>Longitude</th>\n    </tr>\n  </thead>\n  <tbody>\n    <tr>\n      <th>0</th>\n      <td>Alamo Square</td>\n      <td>37.776357</td>\n      <td>-122.434694</td>\n    </tr>\n    <tr>\n      <th>1</th>\n      <td>Anza Vista</td>\n      <td>37.780836</td>\n      <td>-122.443149</td>\n    </tr>\n    <tr>\n      <th>2</th>\n      <td>Bayview</td>\n      <td>37.728889</td>\n      <td>-122.392500</td>\n    </tr>\n    <tr>\n      <th>3</th>\n      <td>Bernal Heights</td>\n      <td>37.741001</td>\n      <td>-122.414214</td>\n    </tr>\n    <tr>\n      <th>4</th>\n      <td>Castro</td>\n      <td>37.760900</td>\n      <td>-122.435000</td>\n    </tr>\n  </tbody>\n</table>\n</div>", 
                        "text/plain": "     Neighborhood   Latitude   Longitude\n0    Alamo Square  37.776357 -122.434694\n1      Anza Vista  37.780836 -122.443149\n2         Bayview  37.728889 -122.392500\n3  Bernal Heights  37.741001 -122.414214\n4          Castro  37.760900 -122.435000"
                    }, 
                    "output_type": "execute_result"
                }
            ], 
            "source": "sf_df_geocodes.columns = ['Neighborhood', 'Latitude', 'Longitude']\nsf_df_geocodes.head(5)"
        }, 
        {
            "source": "<p><b>2.4 Add geocodes to sf_df dataframe</b></p>", 
            "cell_type": "markdown", 
            "metadata": {}
        }, 
        {
            "execution_count": 32, 
            "cell_type": "code", 
            "metadata": {}, 
            "outputs": [
                {
                    "output_type": "stream", 
                    "name": "stdout", 
                    "text": "              Borough        Neighborhood   Latitude   Longitude\n0            Downtown           Chinatown  37.794100 -122.407800\n1            Downtown        Civic Center  37.779594 -122.416794\n2            Downtown  Financial District  37.793647 -122.398938\n3            Downtown          Mid-Market  37.780500 -122.412500\n4            Downtown            Nob Hill  37.793262 -122.415249\n5            Downtown         North Beach  37.801175 -122.409002\n6            Downtown         Mission Bay  37.770774 -122.391171\n7            Downtown     South of Market  37.780893 -122.400952\n8            Downtown      Telegraph Hill  37.802730 -122.405851\n9            Downtown          Tenderloin  37.784249 -122.413993\n10           Downtown        Union Square  37.787936 -122.407517\n11  North of Downtown          Cow Hollow  37.797262 -122.436248\n12  North of Downtown   Fisherman's Wharf  37.809167 -122.416599\n13  North of Downtown     Marina District  37.802984 -122.437472\n14  North of Downtown     Pacific Heights  37.792717 -122.435645\n15  North of Downtown            Presidio  37.798746 -122.464589\n16  North of Downtown        Russian Hill  37.797707 -122.414971\n17  North of Downtown     Treasure Island  37.823354 -122.370153\n18  North of Downtown  Yerba Buena Island  37.811213 -122.366822\n19      Outside Lands         Forest Hill  37.747431 -122.463583\n20      Outside Lands           Ingleside  37.722987 -122.453027\n21      Outside Lands  Ingleside Terraces  37.719800 -122.453800\n22      Outside Lands           Oceanview  37.713651 -122.457483\n23      Outside Lands            Parkside  37.738364 -122.483982\n24      Outside Lands   Richmond District  37.780643 -122.472596\n25      Outside Lands           Sea Cliff  37.785900 -122.490700\n26      Outside Lands     Sunset District  37.753542 -122.495250\n27      Outside Lands         West Portal  37.741216 -122.465708\n28      Outside Lands  Westwood Highlands  37.733300 -122.456600\n29      Outside Lands       Westwood Park  37.726100 -122.456600\n30   Western Addition        Alamo Square  37.776357 -122.434694\n31   Western Addition          Anza Vista  37.780836 -122.443149\n32   Western Addition      Cathedral Hill  37.784200 -122.425400\n33   Western Addition         Cole Valley  37.765813 -122.449962\n34   Western Addition      Corona Heights  37.764886 -122.439368\n35   Western Addition     Duboce Triangle  37.767138 -122.432230\n36   Western Addition            Fillmore  37.782352 -122.432578\n37   Western Addition      Haight-Ashbury  37.770015 -122.446952\n38   Western Addition        Hayes Valley  37.776685 -122.422936\n39   Western Addition           Japantown  37.785579 -122.429809\n40   Western Addition      Laurel Heights  37.785000 -122.451000\n41   Western Addition        Lower Haight  37.771926 -122.432479\n42   Western Addition    Western Addition  37.779559 -122.429810\n43           Southern      Bernal Heights  37.741001 -122.414214\n44           Southern              Castro  37.760900 -122.435000\n45           Southern      Crocker-Amazon  37.709378 -122.438587\n46           Southern     Diamond Heights  37.742400 -122.442500\n47           Southern            Dogpatch  37.760698 -122.389202\n48           Southern       Eureka Valley  37.809560 -122.421640\n49           Southern           Glen Park  37.733104 -122.433805\n50           Southern    Mission District  37.759930 -122.419138\n51           Southern          Noe Valley  37.751591 -122.432081\n52           Southern       Outer Mission  37.745272 -122.419936\n53           Southern             Portola  37.726379 -122.408551\n54           Southern        Potrero Hill  37.756583 -122.399137\n55           Southern   Visitacion Valley  37.712132 -122.409713\n"
                }
            ], 
            "source": "sf_df = sf_df.merge(sf_df_geocodes, how='inner')\nsf_df.shape\nprint(sf_df)"
        }, 
        {
            "source": "<p><b>2.5 Use Foursquare API to get list of venues in each San Francisco neighborhood</b></p>", 
            "cell_type": "markdown", 
            "metadata": {}
        }, 
        {
            "execution_count": 33, 
            "cell_type": "code", 
            "metadata": {}, 
            "outputs": [
                {
                    "output_type": "stream", 
                    "name": "stdout", 
                    "text": "Initialized Foursquare credentials: client_id, client_secret, and version in this cell.\n"
                }
            ], 
            "source": "# The code was removed by Watson Studio for sharing."
        }, 
        {
            "execution_count": 34, 
            "cell_type": "code", 
            "metadata": {}, 
            "outputs": [], 
            "source": "def getNearbyVenues(names, latitudes, longitudes, radius=250, LIMIT=100):\n    \n    venues_list=[]\n    for name, lat, lng in zip(names, latitudes, longitudes):\n            \n        # create the API request URL\n        url = 'https://api.foursquare.com/v2/venues/explore?&client_id={}&client_secret={}&v={}&ll={},{}&radius={}&limit={}'.format(\n            CLIENT_ID, \n            CLIENT_SECRET, \n            VERSION, \n            lat, \n            lng, \n            radius, \n            LIMIT)\n            \n        # make the GET request\n        results = requests.get(url).json()[\"response\"]['groups'][0]['items']\n\n        # return only relevant information for each nearby venue\n        venues_list.append([(\n            name, \n            lat, \n            lng, \n            v['venue']['name'], \n            v['venue']['location']['lat'], \n            v['venue']['location']['lng'],  \n            v['venue']['categories'][0]['name']) for v in results])\n\n    nearby_venues = pd.DataFrame([item for venue_list in venues_list for item in venue_list])\n    nearby_venues.columns = ['Neighborhood', \n                  'Neighborhood Latitude', \n                  'Neighborhood Longitude', \n                  'Venue', \n                  'Venue Latitude', \n                  'Venue Longitude', \n                  'Venue Category']\n    \n    return(nearby_venues)"
        }, 
        {
            "execution_count": 35, 
            "cell_type": "code", 
            "metadata": {}, 
            "outputs": [
                {
                    "output_type": "stream", 
                    "name": "stdout", 
                    "text": "(1217, 7)\n  Neighborhood  Neighborhood Latitude  Neighborhood Longitude  \\\n0    Chinatown                37.7941               -122.4078   \n1    Chinatown                37.7941               -122.4078   \n2    Chinatown                37.7941               -122.4078   \n3    Chinatown                37.7941               -122.4078   \n4    Chinatown                37.7941               -122.4078   \n\n                               Venue  Venue Latitude  Venue Longitude  \\\n0            Red Blossom Tea Company       37.794643      -122.406379   \n1                       Mister Jiu's       37.793790      -122.406615   \n2                      STEAP TEA BAR       37.793359      -122.406573   \n3  Golden Star Vietnamese Restaurant       37.794526      -122.405603   \n4                     Eastern Bakery       37.793776      -122.406178   \n\n          Venue Category  \n0               Tea Room  \n1     Chinese Restaurant  \n2        Bubble Tea Shop  \n3  Vietnamese Restaurant  \n4                 Bakery  \n"
                }
            ], 
            "source": "#Get venues in each neighborhood of San Francisco\nsf_venues = getNearbyVenues(names=sf_df['Neighborhood'],\n                                   latitudes=sf_df['Latitude'],\n                                   longitudes=sf_df['Longitude']\n                                  )\n\nprint(sf_venues.shape)\nprint(sf_venues.head(5))"
        }, 
        {
            "source": "<p><b>Count of venues in each neighborhood of San Francisco</b></p>", 
            "cell_type": "markdown", 
            "metadata": {}
        }, 
        {
            "execution_count": 36, 
            "cell_type": "code", 
            "metadata": {}, 
            "outputs": [
                {
                    "execution_count": 36, 
                    "metadata": {}, 
                    "data": {
                        "text/html": "<div>\n<style scoped>\n    .dataframe tbody tr th:only-of-type {\n        vertical-align: middle;\n    }\n\n    .dataframe tbody tr th {\n        vertical-align: top;\n    }\n\n    .dataframe thead th {\n        text-align: right;\n    }\n</style>\n<table border=\"1\" class=\"dataframe\">\n  <thead>\n    <tr style=\"text-align: right;\">\n      <th></th>\n      <th>Neighborhood Latitude</th>\n      <th>Neighborhood Longitude</th>\n      <th>Venue</th>\n      <th>Venue Latitude</th>\n      <th>Venue Longitude</th>\n      <th>Venue Category</th>\n    </tr>\n    <tr>\n      <th>Neighborhood</th>\n      <th></th>\n      <th></th>\n      <th></th>\n      <th></th>\n      <th></th>\n      <th></th>\n    </tr>\n  </thead>\n  <tbody>\n    <tr>\n      <th>Alamo Square</th>\n      <td>5</td>\n      <td>5</td>\n      <td>5</td>\n      <td>5</td>\n      <td>5</td>\n      <td>5</td>\n    </tr>\n    <tr>\n      <th>Anza Vista</th>\n      <td>4</td>\n      <td>4</td>\n      <td>4</td>\n      <td>4</td>\n      <td>4</td>\n      <td>4</td>\n    </tr>\n    <tr>\n      <th>Bernal Heights</th>\n      <td>17</td>\n      <td>17</td>\n      <td>17</td>\n      <td>17</td>\n      <td>17</td>\n      <td>17</td>\n    </tr>\n    <tr>\n      <th>Castro</th>\n      <td>69</td>\n      <td>69</td>\n      <td>69</td>\n      <td>69</td>\n      <td>69</td>\n      <td>69</td>\n    </tr>\n    <tr>\n      <th>Chinatown</th>\n      <td>27</td>\n      <td>27</td>\n      <td>27</td>\n      <td>27</td>\n      <td>27</td>\n      <td>27</td>\n    </tr>\n    <tr>\n      <th>Civic Center</th>\n      <td>27</td>\n      <td>27</td>\n      <td>27</td>\n      <td>27</td>\n      <td>27</td>\n      <td>27</td>\n    </tr>\n    <tr>\n      <th>Cole Valley</th>\n      <td>11</td>\n      <td>11</td>\n      <td>11</td>\n      <td>11</td>\n      <td>11</td>\n      <td>11</td>\n    </tr>\n    <tr>\n      <th>Corona Heights</th>\n      <td>9</td>\n      <td>9</td>\n      <td>9</td>\n      <td>9</td>\n      <td>9</td>\n      <td>9</td>\n    </tr>\n    <tr>\n      <th>Cow Hollow</th>\n      <td>41</td>\n      <td>41</td>\n      <td>41</td>\n      <td>41</td>\n      <td>41</td>\n      <td>41</td>\n    </tr>\n    <tr>\n      <th>Crocker-Amazon</th>\n      <td>2</td>\n      <td>2</td>\n      <td>2</td>\n      <td>2</td>\n      <td>2</td>\n      <td>2</td>\n    </tr>\n    <tr>\n      <th>Diamond Heights</th>\n      <td>3</td>\n      <td>3</td>\n      <td>3</td>\n      <td>3</td>\n      <td>3</td>\n      <td>3</td>\n    </tr>\n    <tr>\n      <th>Dogpatch</th>\n      <td>23</td>\n      <td>23</td>\n      <td>23</td>\n      <td>23</td>\n      <td>23</td>\n      <td>23</td>\n    </tr>\n    <tr>\n      <th>Duboce Triangle</th>\n      <td>19</td>\n      <td>19</td>\n      <td>19</td>\n      <td>19</td>\n      <td>19</td>\n      <td>19</td>\n    </tr>\n    <tr>\n      <th>Eureka Valley</th>\n      <td>6</td>\n      <td>6</td>\n      <td>6</td>\n      <td>6</td>\n      <td>6</td>\n      <td>6</td>\n    </tr>\n    <tr>\n      <th>Fillmore</th>\n      <td>26</td>\n      <td>26</td>\n      <td>26</td>\n      <td>26</td>\n      <td>26</td>\n      <td>26</td>\n    </tr>\n    <tr>\n      <th>Financial District</th>\n      <td>50</td>\n      <td>50</td>\n      <td>50</td>\n      <td>50</td>\n      <td>50</td>\n      <td>50</td>\n    </tr>\n    <tr>\n      <th>Fisherman's Wharf</th>\n      <td>35</td>\n      <td>35</td>\n      <td>35</td>\n      <td>35</td>\n      <td>35</td>\n      <td>35</td>\n    </tr>\n    <tr>\n      <th>Forest Hill</th>\n      <td>2</td>\n      <td>2</td>\n      <td>2</td>\n      <td>2</td>\n      <td>2</td>\n      <td>2</td>\n    </tr>\n    <tr>\n      <th>Glen Park</th>\n      <td>37</td>\n      <td>37</td>\n      <td>37</td>\n      <td>37</td>\n      <td>37</td>\n      <td>37</td>\n    </tr>\n    <tr>\n      <th>Haight-Ashbury</th>\n      <td>52</td>\n      <td>52</td>\n      <td>52</td>\n      <td>52</td>\n      <td>52</td>\n      <td>52</td>\n    </tr>\n    <tr>\n      <th>Hayes Valley</th>\n      <td>88</td>\n      <td>88</td>\n      <td>88</td>\n      <td>88</td>\n      <td>88</td>\n      <td>88</td>\n    </tr>\n    <tr>\n      <th>Ingleside</th>\n      <td>19</td>\n      <td>19</td>\n      <td>19</td>\n      <td>19</td>\n      <td>19</td>\n      <td>19</td>\n    </tr>\n    <tr>\n      <th>Ingleside Terraces</th>\n      <td>1</td>\n      <td>1</td>\n      <td>1</td>\n      <td>1</td>\n      <td>1</td>\n      <td>1</td>\n    </tr>\n    <tr>\n      <th>Japantown</th>\n      <td>59</td>\n      <td>59</td>\n      <td>59</td>\n      <td>59</td>\n      <td>59</td>\n      <td>59</td>\n    </tr>\n    <tr>\n      <th>Laurel Heights</th>\n      <td>7</td>\n      <td>7</td>\n      <td>7</td>\n      <td>7</td>\n      <td>7</td>\n      <td>7</td>\n    </tr>\n    <tr>\n      <th>Lower Haight</th>\n      <td>35</td>\n      <td>35</td>\n      <td>35</td>\n      <td>35</td>\n      <td>35</td>\n      <td>35</td>\n    </tr>\n    <tr>\n      <th>Marina District</th>\n      <td>4</td>\n      <td>4</td>\n      <td>4</td>\n      <td>4</td>\n      <td>4</td>\n      <td>4</td>\n    </tr>\n    <tr>\n      <th>Mid-Market</th>\n      <td>26</td>\n      <td>26</td>\n      <td>26</td>\n      <td>26</td>\n      <td>26</td>\n      <td>26</td>\n    </tr>\n    <tr>\n      <th>Mission Bay</th>\n      <td>29</td>\n      <td>29</td>\n      <td>29</td>\n      <td>29</td>\n      <td>29</td>\n      <td>29</td>\n    </tr>\n    <tr>\n      <th>Mission District</th>\n      <td>66</td>\n      <td>66</td>\n      <td>66</td>\n      <td>66</td>\n      <td>66</td>\n      <td>66</td>\n    </tr>\n    <tr>\n      <th>Nob Hill</th>\n      <td>10</td>\n      <td>10</td>\n      <td>10</td>\n      <td>10</td>\n      <td>10</td>\n      <td>10</td>\n    </tr>\n    <tr>\n      <th>Noe Valley</th>\n      <td>44</td>\n      <td>44</td>\n      <td>44</td>\n      <td>44</td>\n      <td>44</td>\n      <td>44</td>\n    </tr>\n    <tr>\n      <th>North Beach</th>\n      <td>50</td>\n      <td>50</td>\n      <td>50</td>\n      <td>50</td>\n      <td>50</td>\n      <td>50</td>\n    </tr>\n    <tr>\n      <th>Oceanview</th>\n      <td>4</td>\n      <td>4</td>\n      <td>4</td>\n      <td>4</td>\n      <td>4</td>\n      <td>4</td>\n    </tr>\n    <tr>\n      <th>Outer Mission</th>\n      <td>40</td>\n      <td>40</td>\n      <td>40</td>\n      <td>40</td>\n      <td>40</td>\n      <td>40</td>\n    </tr>\n    <tr>\n      <th>Pacific Heights</th>\n      <td>17</td>\n      <td>17</td>\n      <td>17</td>\n      <td>17</td>\n      <td>17</td>\n      <td>17</td>\n    </tr>\n    <tr>\n      <th>Parkside</th>\n      <td>2</td>\n      <td>2</td>\n      <td>2</td>\n      <td>2</td>\n      <td>2</td>\n      <td>2</td>\n    </tr>\n    <tr>\n      <th>Portola</th>\n      <td>2</td>\n      <td>2</td>\n      <td>2</td>\n      <td>2</td>\n      <td>2</td>\n      <td>2</td>\n    </tr>\n    <tr>\n      <th>Potrero Hill</th>\n      <td>4</td>\n      <td>4</td>\n      <td>4</td>\n      <td>4</td>\n      <td>4</td>\n      <td>4</td>\n    </tr>\n    <tr>\n      <th>Presidio</th>\n      <td>3</td>\n      <td>3</td>\n      <td>3</td>\n      <td>3</td>\n      <td>3</td>\n      <td>3</td>\n    </tr>\n    <tr>\n      <th>Richmond District</th>\n      <td>20</td>\n      <td>20</td>\n      <td>20</td>\n      <td>20</td>\n      <td>20</td>\n      <td>20</td>\n    </tr>\n    <tr>\n      <th>Russian Hill</th>\n      <td>9</td>\n      <td>9</td>\n      <td>9</td>\n      <td>9</td>\n      <td>9</td>\n      <td>9</td>\n    </tr>\n    <tr>\n      <th>Sea Cliff</th>\n      <td>1</td>\n      <td>1</td>\n      <td>1</td>\n      <td>1</td>\n      <td>1</td>\n      <td>1</td>\n    </tr>\n    <tr>\n      <th>South of Market</th>\n      <td>22</td>\n      <td>22</td>\n      <td>22</td>\n      <td>22</td>\n      <td>22</td>\n      <td>22</td>\n    </tr>\n    <tr>\n      <th>Sunset District</th>\n      <td>4</td>\n      <td>4</td>\n      <td>4</td>\n      <td>4</td>\n      <td>4</td>\n      <td>4</td>\n    </tr>\n    <tr>\n      <th>Telegraph Hill</th>\n      <td>10</td>\n      <td>10</td>\n      <td>10</td>\n      <td>10</td>\n      <td>10</td>\n      <td>10</td>\n    </tr>\n    <tr>\n      <th>Tenderloin</th>\n      <td>20</td>\n      <td>20</td>\n      <td>20</td>\n      <td>20</td>\n      <td>20</td>\n      <td>20</td>\n    </tr>\n    <tr>\n      <th>Treasure Island</th>\n      <td>6</td>\n      <td>6</td>\n      <td>6</td>\n      <td>6</td>\n      <td>6</td>\n      <td>6</td>\n    </tr>\n    <tr>\n      <th>Union Square</th>\n      <td>100</td>\n      <td>100</td>\n      <td>100</td>\n      <td>100</td>\n      <td>100</td>\n      <td>100</td>\n    </tr>\n    <tr>\n      <th>Visitacion Valley</th>\n      <td>4</td>\n      <td>4</td>\n      <td>4</td>\n      <td>4</td>\n      <td>4</td>\n      <td>4</td>\n    </tr>\n    <tr>\n      <th>West Portal</th>\n      <td>26</td>\n      <td>26</td>\n      <td>26</td>\n      <td>26</td>\n      <td>26</td>\n      <td>26</td>\n    </tr>\n    <tr>\n      <th>Western Addition</th>\n      <td>5</td>\n      <td>5</td>\n      <td>5</td>\n      <td>5</td>\n      <td>5</td>\n      <td>5</td>\n    </tr>\n    <tr>\n      <th>Westwood Highlands</th>\n      <td>3</td>\n      <td>3</td>\n      <td>3</td>\n      <td>3</td>\n      <td>3</td>\n      <td>3</td>\n    </tr>\n    <tr>\n      <th>Westwood Park</th>\n      <td>9</td>\n      <td>9</td>\n      <td>9</td>\n      <td>9</td>\n      <td>9</td>\n      <td>9</td>\n    </tr>\n    <tr>\n      <th>Yerba Buena Island</th>\n      <td>3</td>\n      <td>3</td>\n      <td>3</td>\n      <td>3</td>\n      <td>3</td>\n      <td>3</td>\n    </tr>\n  </tbody>\n</table>\n</div>", 
                        "text/plain": "                    Neighborhood Latitude  Neighborhood Longitude  Venue  \\\nNeighborhood                                                               \nAlamo Square                            5                       5      5   \nAnza Vista                              4                       4      4   \nBernal Heights                         17                      17     17   \nCastro                                 69                      69     69   \nChinatown                              27                      27     27   \nCivic Center                           27                      27     27   \nCole Valley                            11                      11     11   \nCorona Heights                          9                       9      9   \nCow Hollow                             41                      41     41   \nCrocker-Amazon                          2                       2      2   \nDiamond Heights                         3                       3      3   \nDogpatch                               23                      23     23   \nDuboce Triangle                        19                      19     19   \nEureka Valley                           6                       6      6   \nFillmore                               26                      26     26   \nFinancial District                     50                      50     50   \nFisherman's Wharf                      35                      35     35   \nForest Hill                             2                       2      2   \nGlen Park                              37                      37     37   \nHaight-Ashbury                         52                      52     52   \nHayes Valley                           88                      88     88   \nIngleside                              19                      19     19   \nIngleside Terraces                      1                       1      1   \nJapantown                              59                      59     59   \nLaurel Heights                          7                       7      7   \nLower Haight                           35                      35     35   \nMarina District                         4                       4      4   \nMid-Market                             26                      26     26   \nMission Bay                            29                      29     29   \nMission District                       66                      66     66   \nNob Hill                               10                      10     10   \nNoe Valley                             44                      44     44   \nNorth Beach                            50                      50     50   \nOceanview                               4                       4      4   \nOuter Mission                          40                      40     40   \nPacific Heights                        17                      17     17   \nParkside                                2                       2      2   \nPortola                                 2                       2      2   \nPotrero Hill                            4                       4      4   \nPresidio                                3                       3      3   \nRichmond District                      20                      20     20   \nRussian Hill                            9                       9      9   \nSea Cliff                               1                       1      1   \nSouth of Market                        22                      22     22   \nSunset District                         4                       4      4   \nTelegraph Hill                         10                      10     10   \nTenderloin                             20                      20     20   \nTreasure Island                         6                       6      6   \nUnion Square                          100                     100    100   \nVisitacion Valley                       4                       4      4   \nWest Portal                            26                      26     26   \nWestern Addition                        5                       5      5   \nWestwood Highlands                      3                       3      3   \nWestwood Park                           9                       9      9   \nYerba Buena Island                      3                       3      3   \n\n                    Venue Latitude  Venue Longitude  Venue Category  \nNeighborhood                                                         \nAlamo Square                     5                5               5  \nAnza Vista                       4                4               4  \nBernal Heights                  17               17              17  \nCastro                          69               69              69  \nChinatown                       27               27              27  \nCivic Center                    27               27              27  \nCole Valley                     11               11              11  \nCorona Heights                   9                9               9  \nCow Hollow                      41               41              41  \nCrocker-Amazon                   2                2               2  \nDiamond Heights                  3                3               3  \nDogpatch                        23               23              23  \nDuboce Triangle                 19               19              19  \nEureka Valley                    6                6               6  \nFillmore                        26               26              26  \nFinancial District              50               50              50  \nFisherman's Wharf               35               35              35  \nForest Hill                      2                2               2  \nGlen Park                       37               37              37  \nHaight-Ashbury                  52               52              52  \nHayes Valley                    88               88              88  \nIngleside                       19               19              19  \nIngleside Terraces               1                1               1  \nJapantown                       59               59              59  \nLaurel Heights                   7                7               7  \nLower Haight                    35               35              35  \nMarina District                  4                4               4  \nMid-Market                      26               26              26  \nMission Bay                     29               29              29  \nMission District                66               66              66  \nNob Hill                        10               10              10  \nNoe Valley                      44               44              44  \nNorth Beach                     50               50              50  \nOceanview                        4                4               4  \nOuter Mission                   40               40              40  \nPacific Heights                 17               17              17  \nParkside                         2                2               2  \nPortola                          2                2               2  \nPotrero Hill                     4                4               4  \nPresidio                         3                3               3  \nRichmond District               20               20              20  \nRussian Hill                     9                9               9  \nSea Cliff                        1                1               1  \nSouth of Market                 22               22              22  \nSunset District                  4                4               4  \nTelegraph Hill                  10               10              10  \nTenderloin                      20               20              20  \nTreasure Island                  6                6               6  \nUnion Square                   100              100             100  \nVisitacion Valley                4                4               4  \nWest Portal                     26               26              26  \nWestern Addition                 5                5               5  \nWestwood Highlands               3                3               3  \nWestwood Park                    9                9               9  \nYerba Buena Island               3                3               3  "
                    }, 
                    "output_type": "execute_result"
                }
            ], 
            "source": "sf_venues.groupby('Neighborhood').count()"
        }, 
        {
            "execution_count": 37, 
            "cell_type": "code", 
            "metadata": {}, 
            "outputs": [
                {
                    "output_type": "stream", 
                    "name": "stdout", 
                    "text": "Number of unique categories identified in San Francisco neighborhood are 243\n"
                }
            ], 
            "source": "print(\"Number of unique categories identified in San Francisco neighborhood are {}\".format(len(sf_venues['Venue Category'].unique()))) "
        }, 
        {
            "execution_count": null, 
            "cell_type": "code", 
            "metadata": {}, 
            "outputs": [], 
            "source": ""
        }
    ], 
    "metadata": {
        "kernelspec": {
            "display_name": "Python 3.5", 
            "name": "python3", 
            "language": "python"
        }, 
        "language_info": {
            "mimetype": "text/x-python", 
            "nbconvert_exporter": "python", 
            "version": "3.5.5", 
            "name": "python", 
            "file_extension": ".py", 
            "pygments_lexer": "ipython3", 
            "codemirror_mode": {
                "version": 3, 
                "name": "ipython"
            }
        }
    }, 
    "nbformat": 4
}